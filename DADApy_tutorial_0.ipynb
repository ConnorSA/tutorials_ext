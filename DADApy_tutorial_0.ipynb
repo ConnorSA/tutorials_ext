{
  "cells": [
    {
      "cell_type": "markdown",
      "metadata": {
        "id": "view-in-github",
        "colab_type": "text"
      },
      "source": [
        "<a href=\"https://colab.research.google.com/github/ConnorSA/tutorials_ext/blob/master/DADApy_tutorial_0.ipynb\" target=\"_parent\"><img src=\"https://colab.research.google.com/assets/colab-badge.svg\" alt=\"Open In Colab\"/></a>"
      ]
    },
    {
      "cell_type": "markdown",
      "source": [
        "# PART 0: Curse of dimensionality experiment\n",
        "\n",
        "\n",
        "\n",
        "\n"
      ],
      "metadata": {
        "id": "ZQTZwK0gMtBa"
      }
    },
    {
      "cell_type": "markdown",
      "metadata": {
        "id": "-uViAiH518a4"
      },
      "source": [
        "## Importing and installing the required packages"
      ]
    },
    {
      "cell_type": "code",
      "execution_count": null,
      "metadata": {
        "id": "KuZg-KseCzFx"
      },
      "outputs": [],
      "source": [
        "# import standard python packages\n",
        "import numpy as np\n",
        "\n",
        "import matplotlib.pyplot as plt\n",
        "import seaborn as sns\n",
        "sns.set(style = \"darkgrid\")"
      ]
    },
    {
      "cell_type": "markdown",
      "metadata": {
        "id": "p_YWMEgGMUPv"
      },
      "source": [
        "\n",
        "## Visualising the curse of dimensionality using Gaussians\n"
      ]
    },
    {
      "cell_type": "code",
      "execution_count": null,
      "metadata": {
        "id": "QfodGe5EMUPv"
      },
      "outputs": [],
      "source": [
        "from scipy.stats import norm, chi\n",
        "from scipy import integrate"
      ]
    },
    {
      "cell_type": "markdown",
      "metadata": {
        "id": "HUcmFHO2MUPw"
      },
      "source": [
        "Imagine an isotropic Normal distribution in $D$ dimensions, for each coordinate $k$ we have\n",
        "\n",
        "$x_{ik} \\sim \\mathcal{N}(0, 1)$"
      ]
    },
    {
      "cell_type": "markdown",
      "metadata": {
        "id": "kXkPiwmTMUPw"
      },
      "source": [
        "### 1D case"
      ]
    },
    {
      "cell_type": "markdown",
      "metadata": {
        "id": "NuITirLGMUPx"
      },
      "source": [
        "For $D=1$ we find a very familiar distribution of points. \n",
        "\n",
        "Most of the probability mass lies within 1 standard deviation from the mean. \n",
        "We can define a thin shell between $0.95$ and $1.05$ of the standard deviation, and only $4.8$% of data will be sampled in that region!"
      ]
    },
    {
      "cell_type": "code",
      "execution_count": null,
      "metadata": {
        "colab": {
          "base_uri": "https://localhost:8080/",
          "height": 303
        },
        "id": "qmXbIHWdMUPx",
        "outputId": "43eb4c53-e1b1-4e4a-91f4-8758bb08cd7a"
      },
      "outputs": [
        {
          "output_type": "execute_result",
          "data": {
            "text/plain": [
              "<matplotlib.legend.Legend at 0x7f3fb0739e10>"
            ]
          },
          "metadata": {},
          "execution_count": 3
        },
        {
          "output_type": "display_data",
          "data": {
            "text/plain": [
              "<Figure size 360x288 with 1 Axes>"
            ],
            "image/png": "[encoded data removed]"
          },
          "metadata": {
            "needs_background": "light"
          }
        }
      ],
      "source": [
        "plt.figure(figsize = (5, 4))\n",
        "\n",
        "x = np.linspace(-3, 3)\n",
        "plt.plot(x, norm.pdf(x));\n",
        "\n",
        "bulk = np.linspace(-0.95, 0.95)\n",
        "plt.fill_between(bulk, norm.pdf(bulk), color = 'y', alpha = 0.8, label = 'interior')\n",
        "\n",
        "shell = np.array([-1.05, -0.95])\n",
        "plt.fill_between(shell, norm.pdf(shell), color = 'g', alpha = 0.8, label = 'shell')\n",
        "shell = np.array([0.95, 1.05])\n",
        "plt.fill_between(shell, norm.pdf(shell), color = 'g', alpha = 0.8)\n",
        "\n",
        "plt.xlabel('x')\n",
        "plt.ylabel('p(x)')\n",
        "plt.legend()\n"
      ]
    },
    {
      "cell_type": "code",
      "execution_count": null,
      "metadata": {
        "colab": {
          "base_uri": "https://localhost:8080/"
        },
        "id": "AKV8pL0vMUPy",
        "outputId": "220df452-953b-40a1-e502-31c46fc82d9c"
      },
      "outputs": [
        {
          "output_type": "execute_result",
          "data": {
            "text/plain": [
              "0.6578877473830365"
            ]
          },
          "metadata": {},
          "execution_count": 4
        }
      ],
      "source": [
        "# probability mass in \"interior\" region\n",
        "integrate.quad(lambda x: norm.pdf(x), -0.95, 0.95)[0]"
      ]
    },
    {
      "cell_type": "code",
      "execution_count": null,
      "metadata": {
        "colab": {
          "base_uri": "https://localhost:8080/"
        },
        "id": "9Vq1LgceMUPz",
        "outputId": "5d1d57a8-eacf-4ef8-8bae-09f93ceb3cc2"
      },
      "outputs": [
        {
          "output_type": "execute_result",
          "data": {
            "text/plain": [
              "0.6578877473830365"
            ]
          },
          "metadata": {},
          "execution_count": 5
        }
      ],
      "source": [
        "# we can alternatively find the same number by integrating the distribution \n",
        "# of the distances, a \"chi distribution\" with 1 degree of freedom\n",
        "integrate.quad(lambda x: chi.pdf(x, 1), 0, 0.95)[0]"
      ]
    },
    {
      "cell_type": "code",
      "execution_count": null,
      "metadata": {
        "colab": {
          "base_uri": "https://localhost:8080/"
        },
        "id": "k9LQHsDEMUPz",
        "outputId": "a6c9051f-cca1-4b36-b642-706517ce50af"
      },
      "outputs": [
        {
          "output_type": "execute_result",
          "data": {
            "text/plain": [
              "0.04839413986517177"
            ]
          },
          "metadata": {},
          "execution_count": 6
        }
      ],
      "source": [
        "# probability mass of \"shell\" region, very small!\n",
        "integrate.quad(lambda x: chi.pdf(x, 1), 0.95, 1.05)[0]\n"
      ]
    },
    {
      "cell_type": "markdown",
      "metadata": {
        "id": "q4jVit75MUP0"
      },
      "source": [
        "### 2D case"
      ]
    },
    {
      "cell_type": "markdown",
      "metadata": {
        "id": "pvjnB7tnMUP0"
      },
      "source": [
        "For $D = 2$ the standard deviation becomes $\\sqrt{2}$, but the situation is similar. \n",
        "\n",
        "This time only $7.3$% of the probability mass lies in the same think shell."
      ]
    },
    {
      "cell_type": "code",
      "execution_count": null,
      "metadata": {
        "scrolled": false,
        "colab": {
          "base_uri": "https://localhost:8080/",
          "height": 357
        },
        "id": "qavm-UD3MUP0",
        "outputId": "41750f4b-8acc-44cc-b053-de29d40db0bf"
      },
      "outputs": [
        {
          "output_type": "execute_result",
          "data": {
            "text/plain": [
              "<matplotlib.legend.Legend at 0x7f3fabcaac90>"
            ]
          },
          "metadata": {},
          "execution_count": 7
        },
        {
          "output_type": "display_data",
          "data": {
            "text/plain": [
              "<Figure size 360x360 with 1 Axes>"
            ],
            "image/png": "[encoded data removed]"
          },
          "metadata": {
            "needs_background": "light"
          }
        }
      ],
      "source": [
        "plt.figure(figsize = (5, 5))\n",
        "\n",
        "\n",
        "theta = np.linspace(0, 2*np.pi, endpoint=True) \n",
        "radius = 2.5\n",
        "x = radius * np.cos(theta) \n",
        "y = radius * np.sin(theta)\n",
        "\n",
        "plt.plot(x, y);\n",
        "\n",
        "radii = [0., np.sqrt(2.)*0.95]\n",
        "xs = np.outer(radii, np.cos(theta))\n",
        "ys = np.outer(radii, np.sin(theta))\n",
        "\n",
        "xs[1,:] = xs[1,::-1]\n",
        "ys[1,:] = ys[1,::-1]\n",
        "plt.fill(np.ravel(xs), np.ravel(ys), color = 'y', alpha = 0.8,  label = 'interior')\n",
        "\n",
        "radii = [np.sqrt(2.)*0.95, np.sqrt(2.)*1.05]\n",
        "xs = np.outer(radii, np.cos(theta))\n",
        "ys = np.outer(radii, np.sin(theta))\n",
        "\n",
        "xs[1,:] = xs[1,::-1]\n",
        "ys[1,:] = ys[1,::-1]\n",
        "\n",
        "plt.fill(np.ravel(xs), np.ravel(ys), color = 'g', alpha = 0.8,  label = 'shell')\n",
        "\n",
        "plt.plot([0, 1], [0, 1], 'k--')\n",
        "plt.annotate('$\\sqrt{2}$',(0.25, 0.6))\n",
        "\n",
        "plt.xlabel('x')\n",
        "plt.ylabel('y')\n",
        "plt.legend()\n",
        "\n"
      ]
    },
    {
      "cell_type": "code",
      "source": [
        "D = 3\n",
        "\n",
        "integrate.quad(lambda x: chi.pdf(x, D), np.sqrt(D) * 0.95, np.sqrt(D) * 1.05)[0]"
      ],
      "metadata": {
        "colab": {
          "base_uri": "https://localhost:8080/"
        },
        "id": "5NpLT5_56y40",
        "outputId": "937ded8f-a644-47a6-a6d1-403407dc822d"
      },
      "execution_count": null,
      "outputs": [
        {
          "output_type": "execute_result",
          "data": {
            "text/plain": [
              "0.09235410446434564"
            ]
          },
          "metadata": {},
          "execution_count": 9
        }
      ]
    },
    {
      "cell_type": "markdown",
      "metadata": {
        "id": "ADjscrReMUP3"
      },
      "source": [
        "### High-dimensional case"
      ]
    },
    {
      "cell_type": "markdown",
      "metadata": {
        "id": "ew-huEUsMUP3"
      },
      "source": [
        "For $D = 3$ the number of points in the think shell grows to almost $10$%!\n",
        "\n"
      ]
    },
    {
      "cell_type": "code",
      "execution_count": null,
      "metadata": {
        "colab": {
          "base_uri": "https://localhost:8080/"
        },
        "id": "bHIe0R36MUP4",
        "outputId": "20ac9342-bc09-42e3-a7bd-c4cdff6254d5"
      },
      "outputs": [
        {
          "output_type": "execute_result",
          "data": {
            "text/plain": [
              "(0.09235410446434564, 1.0253365319495349e-15)"
            ]
          },
          "metadata": {},
          "execution_count": 10
        }
      ],
      "source": [
        "\n",
        "D = 3\n",
        "\n",
        "integrate.quad(lambda x: chi.pdf(x, D), np.sqrt(D) * 0.95, np.sqrt(D) * 1.05)\n"
      ]
    },
    {
      "cell_type": "markdown",
      "metadata": {
        "id": "vZYtNqBAMUP5"
      },
      "source": [
        "What happens if we compute the same quantities for very high dimensions?\n",
        "\n",
        "In the following we do that in a foor loop up to $2^{10} = 1024$."
      ]
    },
    {
      "cell_type": "code",
      "execution_count": null,
      "metadata": {
        "id": "EYNBf3hSMUP5"
      },
      "outputs": [],
      "source": [
        "Ds = [1] + list(2**np.arange(1, 11,))\n",
        "\n",
        "interior_mass = []\n",
        "shell_mass = []\n",
        "exterior_mass = []\n",
        "\n",
        "for D in Ds:\n",
        "    \n",
        "    inner_lim = np.sqrt(D) * 0.95\n",
        "    outer_lim = np.sqrt(D) * 1.05\n",
        "    \n",
        "    mass, _ = integrate.quad(lambda x: chi.pdf(x, D), 0, inner_lim)\n",
        "    interior_mass.append(mass)\n",
        "    mass, _ = integrate.quad(lambda x: chi.pdf(x, D), inner_lim, outer_lim)\n",
        "    shell_mass.append(mass)\n",
        "    mass, _ = integrate.quad(lambda x: chi.pdf(x, D), outer_lim, np.inf)\n",
        "    exterior_mass.append(mass)\n",
        "\n",
        "interior_mass = np.array(interior_mass)\n",
        "shell_mass = np.array(shell_mass)\n",
        "interior_mass = np.array(interior_mass)\n",
        "    \n",
        "    "
      ]
    },
    {
      "cell_type": "code",
      "execution_count": null,
      "metadata": {
        "colab": {
          "base_uri": "https://localhost:8080/",
          "height": 313
        },
        "id": "NeBJ3NUwMUP6",
        "outputId": "de608929-e3c2-41e1-b673-e001253a96bc"
      },
      "outputs": [
        {
          "output_type": "execute_result",
          "data": {
            "text/plain": [
              "Text(0, 0.5, 'proportion of mass')"
            ]
          },
          "metadata": {},
          "execution_count": 12
        },
        {
          "output_type": "display_data",
          "data": {
            "text/plain": [
              "<Figure size 432x288 with 1 Axes>"
            ],
            "image/png": "[encoded data removed]"
          },
          "metadata": {
            "needs_background": "light"
          }
        }
      ],
      "source": [
        "plt.figure()\n",
        "plt.stackplot(Ds, interior_mass, shell_mass, exterior_mass,\n",
        "              labels=['interior','shell', 'exterior'], colors = ['y','g','b'], alpha = 0.8)\n",
        "\n",
        "plt.ylim(0, 1)\n",
        "plt.xlim(1, 1024)\n",
        "plt.xscale('log')\n",
        "plt.legend()\n",
        "plt.xlabel('$D$')\n",
        "plt.ylabel('proportion of mass')"
      ]
    },
    {
      "cell_type": "markdown",
      "metadata": {
        "id": "QqoQES1BMUP6"
      },
      "source": [
        "For very high dimensional spaces (say $D \\geq 100$), most points lie on a thin shell at the boundary of a hypersphere!\n",
        "Almost no points are either inside the sphere or outside of it.\n",
        "\n",
        "This can also be seen looking at the distribution of distances between points. On a hypersphere of large dimension $D$, the average distance between points is roughly equal to $\\sqrt{D} \\cdot R$ (http://citeseerx.ist.psu.edu/viewdoc/download?doi=10.1.1.764.481&rep=rep1&type=pdf).\n",
        "\n",
        "What kind of distribution can we expect?"
      ]
    },
    {
      "cell_type": "code",
      "execution_count": null,
      "metadata": {
        "id": "DZELrrfqMUP6"
      },
      "outputs": [],
      "source": [
        "from scipy.spatial.distance import pdist\n",
        "X = np.random.normal(0, 1, (1000, 1000))\n",
        "dists = pdist(X)"
      ]
    },
    {
      "cell_type": "code",
      "execution_count": null,
      "metadata": {
        "colab": {
          "base_uri": "https://localhost:8080/",
          "height": 303
        },
        "id": "nHU81_EcMUP7",
        "outputId": "24edeed9-8dba-4ac6-9cc9-02f6ec7ddeb7"
      },
      "outputs": [
        {
          "output_type": "execute_result",
          "data": {
            "text/plain": [
              "<matplotlib.legend.Legend at 0x7f3fabbea950>"
            ]
          },
          "metadata": {},
          "execution_count": 14
        },
        {
          "output_type": "display_data",
          "data": {
            "text/plain": [
              "<Figure size 432x288 with 1 Axes>"
            ],
            "image/png": "[encoded data removed]"
          },
          "metadata": {
            "needs_background": "light"
          }
        }
      ],
      "source": [
        "plt.figure()\n",
        "plt.hist(dists, density = True, label = 'distance prob.')\n",
        "plt.xlim(0, 80)\n",
        "\n",
        "plt.axvline(np.sqrt(1000)*np.sqrt(2),  c = 'k', lw = 3,  label = 'mean dist. in $D$-sphere')\n",
        "\n",
        "plt.xlabel('distance')\n",
        "plt.ylabel('p(distance)')\n",
        "\n",
        "plt.legend()"
      ]
    },
    {
      "cell_type": "markdown",
      "metadata": {
        "id": "JjEXLfn0MUP7"
      },
      "source": [
        "Essentially ***all points are at the same distance from each other***!\n",
        "\n",
        "This is a huge problem. Data in high dimensions has no concept of \"proximity\", distances are useless, most machine learning methods are doomed to fail miserably...\n",
        "\n"
      ]
    },
    {
      "cell_type": "code",
      "execution_count": null,
      "metadata": {
        "id": "-LbxiSsyMUP7"
      },
      "outputs": [],
      "source": [
        ""
      ]
    }
  ],
  "metadata": {
    "colab": {
      "collapsed_sections": [
        "kXkPiwmTMUPw",
        "q4jVit75MUP0",
        "ADjscrReMUP3"
      ],
      "name": "DADApy_tutorial_0.ipynb",
      "provenance": [],
      "include_colab_link": true
    },
    "kernelspec": {
      "display_name": "Python 3 (ipykernel)",
      "language": "python",
      "name": "python3"
    },
    "language_info": {
      "codemirror_mode": {
        "name": "ipython",
        "version": 3
      },
      "file_extension": ".py",
      "mimetype": "text/x-python",
      "name": "python",
      "nbconvert_exporter": "python",
      "pygments_lexer": "ipython3",
      "version": "3.8.12"
    },
    "toc": {
      "base_numbering": 1,
      "nav_menu": {},
      "number_sections": true,
      "sideBar": true,
      "skip_h1_title": false,
      "title_cell": "Table of Contents",
      "title_sidebar": "Contents",
      "toc_cell": false,
      "toc_position": {},
      "toc_section_display": true,
      "toc_window_display": false
    }
  },
  "nbformat": 4,
  "nbformat_minor": 0
}