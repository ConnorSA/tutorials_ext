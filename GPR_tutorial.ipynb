{
  "nbformat": 4,
  "nbformat_minor": 0,
  "metadata": {
    "colab": {
      "name": "GPR-tutorial.ipynb",
      "provenance": [],
      "include_colab_link": true
    },
    "kernelspec": {
      "name": "python3",
      "display_name": "Python 3"
    },
    "language_info": {
      "name": "python"
    }
  },
  "cells": [
    {
      "cell_type": "markdown",
      "metadata": {
        "id": "view-in-github",
        "colab_type": "text"
      },
      "source": [
        "<a href=\"https://colab.research.google.com/github/ConnorSA/tutorials_ext/blob/master/GPR_tutorial.ipynb\" target=\"_parent\"><img src=\"https://colab.research.google.com/assets/colab-badge.svg\" alt=\"Open In Colab\"/></a>"
      ]
    },
    {
      "cell_type": "markdown",
      "source": [
        "# HOMO energy prediction with Gaussian process regression\n",
        "\n",
        "Now let's reproduce the KRR results from the previous notebook with another kernel-based model, Gaussian Process regression (GPR)."
      ],
      "metadata": {
        "id": "FomxfBKMCkay"
      }
    },
    {
      "cell_type": "code",
      "source": [
        "from sklearn.gaussian_process import GaussianProcessRegressor\n",
        "from sklearn.gaussian_process.kernels import RBF\n",
        "from sklearn.gaussian_process.kernels import ConstantKernel\n",
        "\n",
        "import numpy as np\n",
        "import matplotlib.pyplot as plt\n",
        "from scipy.sparse import load_npz\n",
        "import math, random"
      ],
      "metadata": {
        "id": "pbptnkS_DCr3"
      },
      "execution_count": null,
      "outputs": []
    },
    {
      "cell_type": "markdown",
      "source": [
        "## Load and visualize data \n",
        "\n",
        "Once again, we load the data. Reminder: the input data x is an array that contains all 7k molecules of the QM7 dataset, represented by their Coulomb matrices, which were computed with the [Dscribe](https://www.sciencedirect.com/science/article/pii/S0010465519303042?via%3Dihub) package. The output data y is a list that contains the corresponding (pre-computed) HOMO energies."
      ],
      "metadata": {
        "id": "Eg-T8HiKDL_s"
      }
    },
    {
      "cell_type": "code",
      "source": [
        "!wget https://github.com/fullmetalfelix/ML-CSC-tutorial/raw/master/data/qm7/cm.npz\n",
        "!wget https://raw.githubusercontent.com/fullmetalfelix/ML-CSC-tutorial/master/data/qm7/HOMO.txt\n",
        "\n",
        "x = load_npz(\"cm.npz\").toarray()\n",
        "y = np.genfromtxt(\"HOMO.txt\")"
      ],
      "metadata": {
        "colab": {
          "base_uri": "https://localhost:8080/"
        },
        "id": "rp7gvHe4DR5p",
        "outputId": "06605849-6a63-484e-dd64-ec87db63dd7a"
      },
      "execution_count": null,
      "outputs": [
        {
          "output_type": "stream",
          "name": "stdout",
          "text": [
            "--2022-05-10 08:01:14--  https://github.com/fullmetalfelix/ML-CSC-tutorial/raw/master/data/qm7/cm.npz\n",
            "Resolving github.com (github.com)... 140.82.112.4\n",
            "Connecting to github.com (github.com)|140.82.112.4|:443... connected.\n",
            "HTTP request sent, awaiting response... 302 Found\n",
            "Location: https://raw.githubusercontent.com/fullmetalfelix/ML-CSC-tutorial/master/data/qm7/cm.npz [following]\n",
            "--2022-05-10 08:01:14--  https://raw.githubusercontent.com/fullmetalfelix/ML-CSC-tutorial/master/data/qm7/cm.npz\n",
            "Resolving raw.githubusercontent.com (raw.githubusercontent.com)... 185.199.108.133, 185.199.109.133, 185.199.110.133, ...\n",
            "Connecting to raw.githubusercontent.com (raw.githubusercontent.com)|185.199.108.133|:443... connected.\n",
            "HTTP request sent, awaiting response... 200 OK\n",
            "Length: 3638980 (3.5M) [application/octet-stream]\n",
            "Saving to: ‘cm.npz.2’\n",
            "\n",
            "cm.npz.2            100%[===================>]   3.47M  --.-KB/s    in 0.07s   \n",
            "\n",
            "2022-05-10 08:01:14 (52.3 MB/s) - ‘cm.npz.2’ saved [3638980/3638980]\n",
            "\n",
            "--2022-05-10 08:01:14--  https://raw.githubusercontent.com/fullmetalfelix/ML-CSC-tutorial/master/data/qm7/HOMO.txt\n",
            "Resolving raw.githubusercontent.com (raw.githubusercontent.com)... 185.199.108.133, 185.199.109.133, 185.199.110.133, ...\n",
            "Connecting to raw.githubusercontent.com (raw.githubusercontent.com)|185.199.108.133|:443... connected.\n",
            "HTTP request sent, awaiting response... 200 OK\n",
            "Length: 54610 (53K) [text/plain]\n",
            "Saving to: ‘HOMO.txt.2’\n",
            "\n",
            "HOMO.txt.2          100%[===================>]  53.33K  --.-KB/s    in 0.01s   \n",
            "\n",
            "2022-05-10 08:01:14 (5.14 MB/s) - ‘HOMO.txt.2’ saved [54610/54610]\n",
            "\n"
          ]
        }
      ]
    },
    {
      "cell_type": "markdown",
      "source": [
        "Next, shuffle and divide the dataset into test-train split."
      ],
      "metadata": {
        "id": "oT4wRikhDjBZ"
      }
    },
    {
      "cell_type": "code",
      "source": [
        "## shuffle the data\n",
        "\n",
        "c = list(zip(x, y))\n",
        "random.shuffle(c)\n",
        "\n",
        "x, y = zip(*c)\n",
        "\n",
        "x = np.array(x)\n",
        "y = np.array(y)\n",
        "\n",
        "# decide how many samples to take from the database for training and testing\n",
        "n_train = 1000\n",
        "n_test = 1000\n",
        "\n",
        "# split data in training and test\n",
        "# take first n_train molecules for training\n",
        "x_train  = x[0:n_train] \n",
        "y_train = y[0:n_train]\n",
        "\n",
        "# take the next n_test data for testing\n",
        "x_test = x[n_train:n_train + n_test]\n",
        "y_test = y[n_train:n_train + n_test]"
      ],
      "metadata": {
        "id": "hwNT1VEgDoJp"
      },
      "execution_count": null,
      "outputs": []
    },
    {
      "cell_type": "markdown",
      "source": [
        "## Kernel setup\n",
        "\n",
        "The first step in GPR is to define a kernel. In this example, we'll use the Gaussian kernel (also called the squared exponential SE or the radial basis function RBF kernel). This will make the fitting exactly compatible with the KRR example we did earlier.\n",
        "\n",
        "Please note that scikit-learn package [defines the RBF kernel](https://scikit-learn.org/stable/modules/generated/sklearn.gaussian_process.kernels.RBF.html#sklearn.gaussian_process.kernels.RBF) as the exponential function only, without the scaling factor multiplying it. This is why we will multiply it with a [Constant kernel C](https://scikit-learn.org/stable/modules/generated/sklearn.gaussian_process.kernels.ConstantKernel.html?highlight=constantkernel#sklearn.gaussian_process.kernels.ConstantKernel), to obtain the standard experssion for the Gaussian, which is used in other packages. Kernel development is an active field of research in GPR. The product or sum of kernels is another valid kernel.\n",
        "\n",
        "## Kernel hyperparameters\n",
        "Our composite C*RBF kernel has a couple of parameters: the constant value (for C) and the Gaussian lengthscale (for RBF). These are fitted in an automated way alongside with model fitting, by maximising the logarithm of the marginal likelihood in the hyperparameter search space. In practice, this translates into a bounded search for each hyperparameter. \n",
        "\n",
        "For each parameter search, we need to define the initial value (to start the search) and the lower and upper bounds. The bounds are often defined as a factor (e.g. x=1e2) dividing/multiplying the initial value.\n",
        "\n",
        "**PRO TIP:** when approaching a new dataset, keep bounds large (x=1e4) until you see where the hyperparameters are converging, then adjust the starting position and reduce the x to 100, which makes the search faster. "
      ],
      "metadata": {
        "id": "NdWmTKtKDupt"
      }
    },
    {
      "cell_type": "code",
      "source": [
        "# Define the initial values of hyperparameters and the search bounds\n",
        "const, bound, length = 4, 1e2, 100\n",
        "\n",
        "# Construct the kernel\n",
        "kernel = ConstantKernel(\n",
        "        constant_value=const,\n",
        "        # hyperparameter bounded search: lower bound, upper bound\n",
        "        constant_value_bounds=(const * 1.0 / bound, const * bound),) \\\n",
        "        * RBF(length_scale=length,\n",
        "        # hyperparameter bounded search: lower bound, upper bound\n",
        "        length_scale_bounds=(length * 1.0 / bound, length * bound),)"
      ],
      "metadata": {
        "id": "Nz_Fxd3ODysM"
      },
      "execution_count": null,
      "outputs": []
    },
    {
      "cell_type": "markdown",
      "source": [
        "## GPR model\n",
        "\n",
        "Given the kernel K=C*RBF above, let's proceed to construct the [GPR model](https://scikit-learn.org/stable/modules/generated/sklearn.gaussian_process.GaussianProcessRegressor.html?highlight=gaussianprocessregressor#sklearn.gaussian_process.GaussianProcessRegressor). The main entries are the kernel K and the data noise parameter alpha. Alpha represent a native measure of data variation (usually very small in computations) and is added to the diagonal of the K during model fitting. Very small alpha values (1e-12) can lead to unstable algorithm performance (matrix inversion), so even if you have no noise, it is recommended to set at least alpha to 1e-8, if not larger.\n",
        "\n",
        "Other GPR model options are related to the fitting procedure. The model may perform better/worse if you normalize your data, please check when starting with a new dataset. Also: the hyperparameter search proceeds via local minimisers from the initial hyperparameter value supplied in the kernel, so it's advised to perform several random restarts (at least 2) to check if an even better hyperparameter solution can be found. Please check this when starting with a new dataset, in case the initial settings are not optimal. \n",
        "\n",
        "**PRO TIP**: When starting with a new dataset, the initial hyperparameter values may be suboptimal, so please use several restarts and check optimal solutions. Then you can supply a good starting location for hyperparamers and reduce (costly) restarts. Similarly with the noise parameter alpha: with new data, it is recommended to perform an exploratory grid search, slowly increasing alpha from 1e-8 (very small) to 1e-1 (too large). The optimal value of alpha produces the best model accuracy and prevents overfitting."
      ],
      "metadata": {
        "id": "ZJkZI5syE8dF"
      }
    },
    {
      "cell_type": "code",
      "source": [
        "gpr = GaussianProcessRegressor(\n",
        "      kernel=kernel,   # K=C*RBF\n",
        "      alpha=0.0001,    # data noise\n",
        "      normalize_y=True,\n",
        "      n_restarts_optimizer=2, # random restarts for the hyperparameter search\n",
        "      random_state=1234)           "
      ],
      "metadata": {
        "id": "ROehGWncE_re"
      },
      "execution_count": null,
      "outputs": []
    },
    {
      "cell_type": "markdown",
      "source": [
        "## Model training\n",
        "\n",
        "Next, let's fit the model on the training set data. After the fit, kernel parameters will have changed to optimal values. Please inspect them and record the values. NOTE: different values of noise can lead to different optimal hyperparameter solutions."
      ],
      "metadata": {
        "id": "VMOwGzQIFWxx"
      }
    },
    {
      "cell_type": "code",
      "source": [
        "gpr.fit(x_train, y_train)\n",
        "    \n",
        "# This prints an exhaustive list of all settings relevant to GPR\n",
        "print(f\"trained params : {gpr.get_params()}\")\n",
        "\n",
        "# This prints the optimal hyperparameters of the kernel\n",
        "print(f\"trained params : {gpr.kernel_}\")"
      ],
      "metadata": {
        "colab": {
          "base_uri": "https://localhost:8080/"
        },
        "id": "zFF9lsHIFZgN",
        "outputId": "ea328a21-ef8a-4258-b2a0-3d359a031cf0"
      },
      "execution_count": null,
      "outputs": [
        {
          "output_type": "stream",
          "name": "stdout",
          "text": [
            "trained params : {'alpha': 0.0001, 'copy_X_train': True, 'kernel__k1': 2**2, 'kernel__k2': RBF(length_scale=100), 'kernel__k1__constant_value': 4, 'kernel__k1__constant_value_bounds': (0.04, 400.0), 'kernel__k2__length_scale': 100, 'kernel__k2__length_scale_bounds': (1.0, 10000.0), 'kernel': 2**2 * RBF(length_scale=100), 'n_restarts_optimizer': 2, 'normalize_y': True, 'optimizer': 'fmin_l_bfgs_b', 'random_state': 1234}\n",
            "trained params : 1.18**2 * RBF(length_scale=27.6)\n"
          ]
        }
      ]
    },
    {
      "cell_type": "markdown",
      "source": [
        "# Evaluating results\n",
        "\n",
        "There are two key results from a GPR fit: GP posterior mean *y_mean* and the GP posterior variance (*y_std*)^2 (measure of confidence on the mean). The GP posterior mean is the data prediction. We can evaluate these for each data entry in our test set to compute the mean absolute error and evaluate model performance: the perfomance seems to be similar to the KRR model.  "
      ],
      "metadata": {
        "id": "CuHvto-0NSbE"
      }
    },
    {
      "cell_type": "code",
      "source": [
        "# scikit-learn automatically takes the best hyperparameter combination from the model training.\n",
        "y_mean, y_std = gpr.predict(x_test, return_std=True)  \n",
        "\n",
        "mae = (np.abs(y_mean - y_test)).mean()\n",
        "print(\"Mean absolute error on test set: %0.3f eV\" %mae)"
      ],
      "metadata": {
        "colab": {
          "base_uri": "https://localhost:8080/"
        },
        "id": "UETBYLoxIuBf",
        "outputId": "6aa074e6-7c45-4e7f-a7dd-0e92c6ea62ba"
      },
      "execution_count": null,
      "outputs": [
        {
          "output_type": "stream",
          "name": "stdout",
          "text": [
            "Mean absolute error on test set: 0.298 eV\n"
          ]
        }
      ]
    },
    {
      "cell_type": "markdown",
      "source": [
        "It is very useful to obtain GPR estimates on where the model is uncertain. Let's visualise the distribution of predictive uncertainties across the entire test set. Here, overall, the model is relatively uncertain (average uncertainties > average MAE), indicating that more data is needed for better quality predictions.\n"
      ],
      "metadata": {
        "id": "aUTG-LzyIPoS"
      }
    },
    {
      "cell_type": "code",
      "source": [
        "plt.hist(y_std, bins=20, density=False, facecolor='purple')\n",
        "plt.xlabel(\"Posterior variance [eV]\")\n",
        "plt.ylabel(\"Number of molecules\")\n",
        "plt.title(\"Distribution of GP posterior stdev\")\n",
        "plt.show()\n",
        "\n",
        "## mean value of distribution\n",
        "print(\"Mean value of GP posterior standard deviation on testset predictions: %0.2f eV\" %np.mean(y_std))"
      ],
      "metadata": {
        "colab": {
          "base_uri": "https://localhost:8080/",
          "height": 312
        },
        "id": "x1ig5_e4HVhW",
        "outputId": "91f8bd54-d0d3-4ac9-d1cf-5c601e5ee112"
      },
      "execution_count": null,
      "outputs": [
        {
          "output_type": "display_data",
          "data": {
            "text/plain": [
              "<Figure size 432x288 with 1 Axes>"
            ],
            "image/png": "[encoded data removed]"
          },
          "metadata": {
            "needs_background": "light"
          }
        },
        {
          "output_type": "stream",
          "name": "stdout",
          "text": [
            "Mean value of GP posterior standard deviation on testset predictions: 0.41 eV\n"
          ]
        }
      ]
    },
    {
      "cell_type": "markdown",
      "source": [
        "## **Exercises**\n",
        "\n",
        "### 1. Noise\n",
        "\n",
        "Take a note of the current MAE and try adjusting the noise by a factor of 10 or 100 lower or higher. How does this change the MAE and the average standard deviation? Which alpha noise setting produces the lowest MAE for this dataset size? "
      ],
      "metadata": {
        "id": "siG6QkTVMPTV"
      }
    },
    {
      "cell_type": "code",
      "source": [
        ""
      ],
      "metadata": {
        "id": "quRIugIWMU6A"
      },
      "execution_count": null,
      "outputs": []
    },
    {
      "cell_type": "markdown",
      "source": [
        "### 2. Hyperparameter search\n",
        "\n",
        "Check fitted values for hyperparameters against the values of the hyperparameter bounds - if the final result is the same as the bound, they need to be adjusted. Also, try switching off the restarts, and increasing the no. of restarts - do the final hyperparameters change, and how does this affect the MAE? "
      ],
      "metadata": {
        "id": "TxcunE7BMXYC"
      }
    },
    {
      "cell_type": "code",
      "source": [
        ""
      ],
      "metadata": {
        "id": "P9VgDEHaM2BI"
      },
      "execution_count": null,
      "outputs": []
    },
    {
      "cell_type": "markdown",
      "source": [
        "### 3. Initial hyperparameters\n",
        "\n",
        "Try varing the initial hyperparameters by a factor of 10 (larger and smaller): how does this change the final hyperparameters and the MAE?"
      ],
      "metadata": {
        "id": "isBNjEYAM2QW"
      }
    },
    {
      "cell_type": "code",
      "source": [
        ""
      ],
      "metadata": {
        "id": "USAntW5QNF0R"
      },
      "execution_count": null,
      "outputs": []
    },
    {
      "cell_type": "markdown",
      "source": [
        "### 4. Dataset size\n",
        "\n",
        "Having found the optimal settings for the GPR (noise, hyperparameter initial values, bounds, etc.), try increasing the training set size and check that the MAE is reduced. How does this affect the average GP model standard deviation?"
      ],
      "metadata": {
        "id": "yijcuOwpQt8j"
      }
    },
    {
      "cell_type": "code",
      "source": [
        ""
      ],
      "metadata": {
        "id": "ZOAkJeoHREbc"
      },
      "execution_count": null,
      "outputs": []
    },
    {
      "cell_type": "code",
      "source": [
        ""
      ],
      "metadata": {
        "id": "VujPNnNjRFKk"
      },
      "execution_count": null,
      "outputs": []
    }
  ]
}